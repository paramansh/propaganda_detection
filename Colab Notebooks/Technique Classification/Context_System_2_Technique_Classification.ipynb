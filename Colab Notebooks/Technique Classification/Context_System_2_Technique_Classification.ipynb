{
  "nbformat": 4,
  "nbformat_minor": 0,
  "metadata": {
    "colab": {
      "name": "Context System 2 Technique Classification.ipynb",
      "provenance": [],
      "collapsed_sections": []
    },
    "kernelspec": {
      "name": "python3",
      "display_name": "Python 3"
    },
    "accelerator": "GPU",
    "widgets": {
      "application/vnd.jupyter.widget-state+json": {
        "d17cc5a6f07c4ac68ac3711505d2bb89": {
          "model_module": "@jupyter-widgets/controls",
          "model_name": "HBoxModel",
          "state": {
            "_view_name": "HBoxView",
            "_dom_classes": [],
            "_model_name": "HBoxModel",
            "_view_module": "@jupyter-widgets/controls",
            "_model_module_version": "1.5.0",
            "_view_count": null,
            "_view_module_version": "1.5.0",
            "box_style": "",
            "layout": "IPY_MODEL_8559354a795841c59e74b83bddcbff02",
            "_model_module": "@jupyter-widgets/controls",
            "children": [
              "IPY_MODEL_17f75191640147b58801e36baf08b3e9",
              "IPY_MODEL_1c1f31b38ada4ce8af0026071f3d9b10"
            ]
          }
        },
        "8559354a795841c59e74b83bddcbff02": {
          "model_module": "@jupyter-widgets/base",
          "model_name": "LayoutModel",
          "state": {
            "_view_name": "LayoutView",
            "grid_template_rows": null,
            "right": null,
            "justify_content": null,
            "_view_module": "@jupyter-widgets/base",
            "overflow": null,
            "_model_module_version": "1.2.0",
            "_view_count": null,
            "flex_flow": null,
            "width": null,
            "min_width": null,
            "border": null,
            "align_items": null,
            "bottom": null,
            "_model_module": "@jupyter-widgets/base",
            "top": null,
            "grid_column": null,
            "overflow_y": null,
            "overflow_x": null,
            "grid_auto_flow": null,
            "grid_area": null,
            "grid_template_columns": null,
            "flex": null,
            "_model_name": "LayoutModel",
            "justify_items": null,
            "grid_row": null,
            "max_height": null,
            "align_content": null,
            "visibility": null,
            "align_self": null,
            "height": null,
            "min_height": null,
            "padding": null,
            "grid_auto_rows": null,
            "grid_gap": null,
            "max_width": null,
            "order": null,
            "_view_module_version": "1.2.0",
            "grid_template_areas": null,
            "object_position": null,
            "object_fit": null,
            "grid_auto_columns": null,
            "margin": null,
            "display": null,
            "left": null
          }
        },
        "17f75191640147b58801e36baf08b3e9": {
          "model_module": "@jupyter-widgets/controls",
          "model_name": "IntProgressModel",
          "state": {
            "_view_name": "ProgressView",
            "style": "IPY_MODEL_3c9191688b834f18b9bcb4220d4a1469",
            "_dom_classes": [],
            "description": "Downloading: 100%",
            "_model_name": "IntProgressModel",
            "bar_style": "success",
            "max": 481,
            "_view_module": "@jupyter-widgets/controls",
            "_model_module_version": "1.5.0",
            "value": 481,
            "_view_count": null,
            "_view_module_version": "1.5.0",
            "orientation": "horizontal",
            "min": 0,
            "description_tooltip": null,
            "_model_module": "@jupyter-widgets/controls",
            "layout": "IPY_MODEL_db960a5c6f1f426bb8619d3a4a54c4a6"
          }
        },
        "1c1f31b38ada4ce8af0026071f3d9b10": {
          "model_module": "@jupyter-widgets/controls",
          "model_name": "HTMLModel",
          "state": {
            "_view_name": "HTMLView",
            "style": "IPY_MODEL_2e8f5d67902d45e3b522df1801d79970",
            "_dom_classes": [],
            "description": "",
            "_model_name": "HTMLModel",
            "placeholder": "​",
            "_view_module": "@jupyter-widgets/controls",
            "_model_module_version": "1.5.0",
            "value": " 481/481 [00:00&lt;00:00, 600B/s]",
            "_view_count": null,
            "_view_module_version": "1.5.0",
            "description_tooltip": null,
            "_model_module": "@jupyter-widgets/controls",
            "layout": "IPY_MODEL_265268211e4b480cb8899503592efce8"
          }
        },
        "3c9191688b834f18b9bcb4220d4a1469": {
          "model_module": "@jupyter-widgets/controls",
          "model_name": "ProgressStyleModel",
          "state": {
            "_view_name": "StyleView",
            "_model_name": "ProgressStyleModel",
            "description_width": "initial",
            "_view_module": "@jupyter-widgets/base",
            "_model_module_version": "1.5.0",
            "_view_count": null,
            "_view_module_version": "1.2.0",
            "bar_color": null,
            "_model_module": "@jupyter-widgets/controls"
          }
        },
        "db960a5c6f1f426bb8619d3a4a54c4a6": {
          "model_module": "@jupyter-widgets/base",
          "model_name": "LayoutModel",
          "state": {
            "_view_name": "LayoutView",
            "grid_template_rows": null,
            "right": null,
            "justify_content": null,
            "_view_module": "@jupyter-widgets/base",
            "overflow": null,
            "_model_module_version": "1.2.0",
            "_view_count": null,
            "flex_flow": null,
            "width": null,
            "min_width": null,
            "border": null,
            "align_items": null,
            "bottom": null,
            "_model_module": "@jupyter-widgets/base",
            "top": null,
            "grid_column": null,
            "overflow_y": null,
            "overflow_x": null,
            "grid_auto_flow": null,
            "grid_area": null,
            "grid_template_columns": null,
            "flex": null,
            "_model_name": "LayoutModel",
            "justify_items": null,
            "grid_row": null,
            "max_height": null,
            "align_content": null,
            "visibility": null,
            "align_self": null,
            "height": null,
            "min_height": null,
            "padding": null,
            "grid_auto_rows": null,
            "grid_gap": null,
            "max_width": null,
            "order": null,
            "_view_module_version": "1.2.0",
            "grid_template_areas": null,
            "object_position": null,
            "object_fit": null,
            "grid_auto_columns": null,
            "margin": null,
            "display": null,
            "left": null
          }
        },
        "2e8f5d67902d45e3b522df1801d79970": {
          "model_module": "@jupyter-widgets/controls",
          "model_name": "DescriptionStyleModel",
          "state": {
            "_view_name": "StyleView",
            "_model_name": "DescriptionStyleModel",
            "description_width": "",
            "_view_module": "@jupyter-widgets/base",
            "_model_module_version": "1.5.0",
            "_view_count": null,
            "_view_module_version": "1.2.0",
            "_model_module": "@jupyter-widgets/controls"
          }
        },
        "265268211e4b480cb8899503592efce8": {
          "model_module": "@jupyter-widgets/base",
          "model_name": "LayoutModel",
          "state": {
            "_view_name": "LayoutView",
            "grid_template_rows": null,
            "right": null,
            "justify_content": null,
            "_view_module": "@jupyter-widgets/base",
            "overflow": null,
            "_model_module_version": "1.2.0",
            "_view_count": null,
            "flex_flow": null,
            "width": null,
            "min_width": null,
            "border": null,
            "align_items": null,
            "bottom": null,
            "_model_module": "@jupyter-widgets/base",
            "top": null,
            "grid_column": null,
            "overflow_y": null,
            "overflow_x": null,
            "grid_auto_flow": null,
            "grid_area": null,
            "grid_template_columns": null,
            "flex": null,
            "_model_name": "LayoutModel",
            "justify_items": null,
            "grid_row": null,
            "max_height": null,
            "align_content": null,
            "visibility": null,
            "align_self": null,
            "height": null,
            "min_height": null,
            "padding": null,
            "grid_auto_rows": null,
            "grid_gap": null,
            "max_width": null,
            "order": null,
            "_view_module_version": "1.2.0",
            "grid_template_areas": null,
            "object_position": null,
            "object_fit": null,
            "grid_auto_columns": null,
            "margin": null,
            "display": null,
            "left": null
          }
        },
        "83f9e8b6ccb14a52b4709e883c6e856c": {
          "model_module": "@jupyter-widgets/controls",
          "model_name": "HBoxModel",
          "state": {
            "_view_name": "HBoxView",
            "_dom_classes": [],
            "_model_name": "HBoxModel",
            "_view_module": "@jupyter-widgets/controls",
            "_model_module_version": "1.5.0",
            "_view_count": null,
            "_view_module_version": "1.5.0",
            "box_style": "",
            "layout": "IPY_MODEL_126e1f28c97a4deebd95d9ceba9a5d52",
            "_model_module": "@jupyter-widgets/controls",
            "children": [
              "IPY_MODEL_161911628c8e4fc18a77a9da3891d47c",
              "IPY_MODEL_8acd976abca94f8799833355df8438a3"
            ]
          }
        },
        "126e1f28c97a4deebd95d9ceba9a5d52": {
          "model_module": "@jupyter-widgets/base",
          "model_name": "LayoutModel",
          "state": {
            "_view_name": "LayoutView",
            "grid_template_rows": null,
            "right": null,
            "justify_content": null,
            "_view_module": "@jupyter-widgets/base",
            "overflow": null,
            "_model_module_version": "1.2.0",
            "_view_count": null,
            "flex_flow": null,
            "width": null,
            "min_width": null,
            "border": null,
            "align_items": null,
            "bottom": null,
            "_model_module": "@jupyter-widgets/base",
            "top": null,
            "grid_column": null,
            "overflow_y": null,
            "overflow_x": null,
            "grid_auto_flow": null,
            "grid_area": null,
            "grid_template_columns": null,
            "flex": null,
            "_model_name": "LayoutModel",
            "justify_items": null,
            "grid_row": null,
            "max_height": null,
            "align_content": null,
            "visibility": null,
            "align_self": null,
            "height": null,
            "min_height": null,
            "padding": null,
            "grid_auto_rows": null,
            "grid_gap": null,
            "max_width": null,
            "order": null,
            "_view_module_version": "1.2.0",
            "grid_template_areas": null,
            "object_position": null,
            "object_fit": null,
            "grid_auto_columns": null,
            "margin": null,
            "display": null,
            "left": null
          }
        },
        "161911628c8e4fc18a77a9da3891d47c": {
          "model_module": "@jupyter-widgets/controls",
          "model_name": "IntProgressModel",
          "state": {
            "_view_name": "ProgressView",
            "style": "IPY_MODEL_d34aa168943d457795b6228965b37030",
            "_dom_classes": [],
            "description": "Downloading: 100%",
            "_model_name": "IntProgressModel",
            "bar_style": "success",
            "max": 501200538,
            "_view_module": "@jupyter-widgets/controls",
            "_model_module_version": "1.5.0",
            "value": 501200538,
            "_view_count": null,
            "_view_module_version": "1.5.0",
            "orientation": "horizontal",
            "min": 0,
            "description_tooltip": null,
            "_model_module": "@jupyter-widgets/controls",
            "layout": "IPY_MODEL_71dba792f848423380042b908f3dc8e2"
          }
        },
        "8acd976abca94f8799833355df8438a3": {
          "model_module": "@jupyter-widgets/controls",
          "model_name": "HTMLModel",
          "state": {
            "_view_name": "HTMLView",
            "style": "IPY_MODEL_7e1f90f3bad64dbdb2aeff5370250857",
            "_dom_classes": [],
            "description": "",
            "_model_name": "HTMLModel",
            "placeholder": "​",
            "_view_module": "@jupyter-widgets/controls",
            "_model_module_version": "1.5.0",
            "value": " 501M/501M [00:20&lt;00:00, 24.4MB/s]",
            "_view_count": null,
            "_view_module_version": "1.5.0",
            "description_tooltip": null,
            "_model_module": "@jupyter-widgets/controls",
            "layout": "IPY_MODEL_b74a08aa40e242d0bef0dc3e128b7a29"
          }
        },
        "d34aa168943d457795b6228965b37030": {
          "model_module": "@jupyter-widgets/controls",
          "model_name": "ProgressStyleModel",
          "state": {
            "_view_name": "StyleView",
            "_model_name": "ProgressStyleModel",
            "description_width": "initial",
            "_view_module": "@jupyter-widgets/base",
            "_model_module_version": "1.5.0",
            "_view_count": null,
            "_view_module_version": "1.2.0",
            "bar_color": null,
            "_model_module": "@jupyter-widgets/controls"
          }
        },
        "71dba792f848423380042b908f3dc8e2": {
          "model_module": "@jupyter-widgets/base",
          "model_name": "LayoutModel",
          "state": {
            "_view_name": "LayoutView",
            "grid_template_rows": null,
            "right": null,
            "justify_content": null,
            "_view_module": "@jupyter-widgets/base",
            "overflow": null,
            "_model_module_version": "1.2.0",
            "_view_count": null,
            "flex_flow": null,
            "width": null,
            "min_width": null,
            "border": null,
            "align_items": null,
            "bottom": null,
            "_model_module": "@jupyter-widgets/base",
            "top": null,
            "grid_column": null,
            "overflow_y": null,
            "overflow_x": null,
            "grid_auto_flow": null,
            "grid_area": null,
            "grid_template_columns": null,
            "flex": null,
            "_model_name": "LayoutModel",
            "justify_items": null,
            "grid_row": null,
            "max_height": null,
            "align_content": null,
            "visibility": null,
            "align_self": null,
            "height": null,
            "min_height": null,
            "padding": null,
            "grid_auto_rows": null,
            "grid_gap": null,
            "max_width": null,
            "order": null,
            "_view_module_version": "1.2.0",
            "grid_template_areas": null,
            "object_position": null,
            "object_fit": null,
            "grid_auto_columns": null,
            "margin": null,
            "display": null,
            "left": null
          }
        },
        "7e1f90f3bad64dbdb2aeff5370250857": {
          "model_module": "@jupyter-widgets/controls",
          "model_name": "DescriptionStyleModel",
          "state": {
            "_view_name": "StyleView",
            "_model_name": "DescriptionStyleModel",
            "description_width": "",
            "_view_module": "@jupyter-widgets/base",
            "_model_module_version": "1.5.0",
            "_view_count": null,
            "_view_module_version": "1.2.0",
            "_model_module": "@jupyter-widgets/controls"
          }
        },
        "b74a08aa40e242d0bef0dc3e128b7a29": {
          "model_module": "@jupyter-widgets/base",
          "model_name": "LayoutModel",
          "state": {
            "_view_name": "LayoutView",
            "grid_template_rows": null,
            "right": null,
            "justify_content": null,
            "_view_module": "@jupyter-widgets/base",
            "overflow": null,
            "_model_module_version": "1.2.0",
            "_view_count": null,
            "flex_flow": null,
            "width": null,
            "min_width": null,
            "border": null,
            "align_items": null,
            "bottom": null,
            "_model_module": "@jupyter-widgets/base",
            "top": null,
            "grid_column": null,
            "overflow_y": null,
            "overflow_x": null,
            "grid_auto_flow": null,
            "grid_area": null,
            "grid_template_columns": null,
            "flex": null,
            "_model_name": "LayoutModel",
            "justify_items": null,
            "grid_row": null,
            "max_height": null,
            "align_content": null,
            "visibility": null,
            "align_self": null,
            "height": null,
            "min_height": null,
            "padding": null,
            "grid_auto_rows": null,
            "grid_gap": null,
            "max_width": null,
            "order": null,
            "_view_module_version": "1.2.0",
            "grid_template_areas": null,
            "object_position": null,
            "object_fit": null,
            "grid_auto_columns": null,
            "margin": null,
            "display": null,
            "left": null
          }
        }
      }
    }
  },
  "cells": [
    {
      "cell_type": "code",
      "metadata": {
        "id": "2WkH2d0SLPeT",
        "colab_type": "code",
        "outputId": "1426d123-2f05-49ae-911b-7bf330a4ec2b",
        "colab": {
          "base_uri": "https://localhost:8080/",
          "height": 122
        }
      },
      "source": [
        "from google.colab import drive\n",
        "drive.mount('/content/gdrive')"
      ],
      "execution_count": 0,
      "outputs": [
        {
          "output_type": "stream",
          "text": [
            "Go to this URL in a browser: https://accounts.google.com/o/oauth2/auth?client_id=947318989803-6bn6qk8qdgf4n4g3pfee6491hc0brc4i.apps.googleusercontent.com&redirect_uri=urn%3aietf%3awg%3aoauth%3a2.0%3aoob&response_type=code&scope=email%20https%3a%2f%2fwww.googleapis.com%2fauth%2fdocs.test%20https%3a%2f%2fwww.googleapis.com%2fauth%2fdrive%20https%3a%2f%2fwww.googleapis.com%2fauth%2fdrive.photos.readonly%20https%3a%2f%2fwww.googleapis.com%2fauth%2fpeopleapi.readonly\n",
            "\n",
            "Enter your authorization code:\n",
            "··········\n",
            "Mounted at /content/gdrive\n"
          ],
          "name": "stdout"
        }
      ]
    },
    {
      "cell_type": "code",
      "metadata": {
        "id": "49fpc1iF6jcS",
        "colab_type": "code",
        "outputId": "d24be9c3-4743-4ed0-89be-1f92a39b68bf",
        "colab": {
          "base_uri": "https://localhost:8080/",
          "height": 683
        }
      },
      "source": [
        "!pip install transformers"
      ],
      "execution_count": 0,
      "outputs": [
        {
          "output_type": "stream",
          "text": [
            "Collecting transformers\n",
            "\u001b[?25l  Downloading https://files.pythonhosted.org/packages/a3/78/92cedda05552398352ed9784908b834ee32a0bd071a9b32de287327370b7/transformers-2.8.0-py3-none-any.whl (563kB)\n",
            "\r\u001b[K     |▋                               | 10kB 25.0MB/s eta 0:00:01\r\u001b[K     |█▏                              | 20kB 5.9MB/s eta 0:00:01\r\u001b[K     |█▊                              | 30kB 8.1MB/s eta 0:00:01\r\u001b[K     |██▎                             | 40kB 10.2MB/s eta 0:00:01\r\u001b[K     |███                             | 51kB 6.8MB/s eta 0:00:01\r\u001b[K     |███▌                            | 61kB 8.0MB/s eta 0:00:01\r\u001b[K     |████                            | 71kB 9.0MB/s eta 0:00:01\r\u001b[K     |████▋                           | 81kB 10.0MB/s eta 0:00:01\r\u001b[K     |█████▎                          | 92kB 8.0MB/s eta 0:00:01\r\u001b[K     |█████▉                          | 102kB 8.7MB/s eta 0:00:01\r\u001b[K     |██████▍                         | 112kB 8.7MB/s eta 0:00:01\r\u001b[K     |███████                         | 122kB 8.7MB/s eta 0:00:01\r\u001b[K     |███████▋                        | 133kB 8.7MB/s eta 0:00:01\r\u001b[K     |████████▏                       | 143kB 8.7MB/s eta 0:00:01\r\u001b[K     |████████▊                       | 153kB 8.7MB/s eta 0:00:01\r\u001b[K     |█████████▎                      | 163kB 8.7MB/s eta 0:00:01\r\u001b[K     |█████████▉                      | 174kB 8.7MB/s eta 0:00:01\r\u001b[K     |██████████▌                     | 184kB 8.7MB/s eta 0:00:01\r\u001b[K     |███████████                     | 194kB 8.7MB/s eta 0:00:01\r\u001b[K     |███████████▋                    | 204kB 8.7MB/s eta 0:00:01\r\u001b[K     |████████████▏                   | 215kB 8.7MB/s eta 0:00:01\r\u001b[K     |████████████▉                   | 225kB 8.7MB/s eta 0:00:01\r\u001b[K     |█████████████▍                  | 235kB 8.7MB/s eta 0:00:01\r\u001b[K     |██████████████                  | 245kB 8.7MB/s eta 0:00:01\r\u001b[K     |██████████████▌                 | 256kB 8.7MB/s eta 0:00:01\r\u001b[K     |███████████████▏                | 266kB 8.7MB/s eta 0:00:01\r\u001b[K     |███████████████▊                | 276kB 8.7MB/s eta 0:00:01\r\u001b[K     |████████████████▎               | 286kB 8.7MB/s eta 0:00:01\r\u001b[K     |████████████████▉               | 296kB 8.7MB/s eta 0:00:01\r\u001b[K     |█████████████████▍              | 307kB 8.7MB/s eta 0:00:01\r\u001b[K     |██████████████████              | 317kB 8.7MB/s eta 0:00:01\r\u001b[K     |██████████████████▋             | 327kB 8.7MB/s eta 0:00:01\r\u001b[K     |███████████████████▏            | 337kB 8.7MB/s eta 0:00:01\r\u001b[K     |███████████████████▊            | 348kB 8.7MB/s eta 0:00:01\r\u001b[K     |████████████████████▍           | 358kB 8.7MB/s eta 0:00:01\r\u001b[K     |█████████████████████           | 368kB 8.7MB/s eta 0:00:01\r\u001b[K     |█████████████████████▌          | 378kB 8.7MB/s eta 0:00:01\r\u001b[K     |██████████████████████          | 389kB 8.7MB/s eta 0:00:01\r\u001b[K     |██████████████████████▊         | 399kB 8.7MB/s eta 0:00:01\r\u001b[K     |███████████████████████▎        | 409kB 8.7MB/s eta 0:00:01\r\u001b[K     |███████████████████████▉        | 419kB 8.7MB/s eta 0:00:01\r\u001b[K     |████████████████████████▍       | 430kB 8.7MB/s eta 0:00:01\r\u001b[K     |█████████████████████████       | 440kB 8.7MB/s eta 0:00:01\r\u001b[K     |█████████████████████████▋      | 450kB 8.7MB/s eta 0:00:01\r\u001b[K     |██████████████████████████▏     | 460kB 8.7MB/s eta 0:00:01\r\u001b[K     |██████████████████████████▊     | 471kB 8.7MB/s eta 0:00:01\r\u001b[K     |███████████████████████████▎    | 481kB 8.7MB/s eta 0:00:01\r\u001b[K     |████████████████████████████    | 491kB 8.7MB/s eta 0:00:01\r\u001b[K     |████████████████████████████▌   | 501kB 8.7MB/s eta 0:00:01\r\u001b[K     |█████████████████████████████   | 512kB 8.7MB/s eta 0:00:01\r\u001b[K     |█████████████████████████████▋  | 522kB 8.7MB/s eta 0:00:01\r\u001b[K     |██████████████████████████████▎ | 532kB 8.7MB/s eta 0:00:01\r\u001b[K     |██████████████████████████████▉ | 542kB 8.7MB/s eta 0:00:01\r\u001b[K     |███████████████████████████████▍| 552kB 8.7MB/s eta 0:00:01\r\u001b[K     |████████████████████████████████| 563kB 8.7MB/s eta 0:00:01\r\u001b[K     |████████████████████████████████| 573kB 8.7MB/s \n",
            "\u001b[?25hRequirement already satisfied: regex!=2019.12.17 in /usr/local/lib/python3.6/dist-packages (from transformers) (2019.12.20)\n",
            "Requirement already satisfied: dataclasses; python_version < \"3.7\" in /usr/local/lib/python3.6/dist-packages (from transformers) (0.7)\n",
            "Requirement already satisfied: numpy in /usr/local/lib/python3.6/dist-packages (from transformers) (1.18.3)\n",
            "Collecting sentencepiece\n",
            "\u001b[?25l  Downloading https://files.pythonhosted.org/packages/98/2c/8df20f3ac6c22ac224fff307ebc102818206c53fc454ecd37d8ac2060df5/sentencepiece-0.1.86-cp36-cp36m-manylinux1_x86_64.whl (1.0MB)\n",
            "\r\u001b[K     |▎                               | 10kB 31.7MB/s eta 0:00:01\r\u001b[K     |▋                               | 20kB 41.3MB/s eta 0:00:01\r\u001b[K     |█                               | 30kB 48.9MB/s eta 0:00:01\r\u001b[K     |█▎                              | 40kB 50.7MB/s eta 0:00:01\r\u001b[K     |█▋                              | 51kB 50.5MB/s eta 0:00:01\r\u001b[K     |██                              | 61kB 52.9MB/s eta 0:00:01\r\u001b[K     |██▏                             | 71kB 53.6MB/s eta 0:00:01\r\u001b[K     |██▌                             | 81kB 53.5MB/s eta 0:00:01\r\u001b[K     |██▉                             | 92kB 54.6MB/s eta 0:00:01\r\u001b[K     |███▏                            | 102kB 56.0MB/s eta 0:00:01\r\u001b[K     |███▌                            | 112kB 56.0MB/s eta 0:00:01\r\u001b[K     |███▉                            | 122kB 56.0MB/s eta 0:00:01\r\u001b[K     |████                            | 133kB 56.0MB/s eta 0:00:01\r\u001b[K     |████▍                           | 143kB 56.0MB/s eta 0:00:01\r\u001b[K     |████▊                           | 153kB 56.0MB/s eta 0:00:01\r\u001b[K     |█████                           | 163kB 56.0MB/s eta 0:00:01\r\u001b[K     |█████▍                          | 174kB 56.0MB/s eta 0:00:01\r\u001b[K     |█████▊                          | 184kB 56.0MB/s eta 0:00:01\r\u001b[K     |██████                          | 194kB 56.0MB/s eta 0:00:01\r\u001b[K     |██████▎                         | 204kB 56.0MB/s eta 0:00:01\r\u001b[K     |██████▋                         | 215kB 56.0MB/s eta 0:00:01\r\u001b[K     |███████                         | 225kB 56.0MB/s eta 0:00:01\r\u001b[K     |███████▎                        | 235kB 56.0MB/s eta 0:00:01\r\u001b[K     |███████▋                        | 245kB 56.0MB/s eta 0:00:01\r\u001b[K     |███████▉                        | 256kB 56.0MB/s eta 0:00:01\r\u001b[K     |████████▏                       | 266kB 56.0MB/s eta 0:00:01\r\u001b[K     |████████▌                       | 276kB 56.0MB/s eta 0:00:01\r\u001b[K     |████████▉                       | 286kB 56.0MB/s eta 0:00:01\r\u001b[K     |█████████▏                      | 296kB 56.0MB/s eta 0:00:01\r\u001b[K     |█████████▌                      | 307kB 56.0MB/s eta 0:00:01\r\u001b[K     |█████████▊                      | 317kB 56.0MB/s eta 0:00:01\r\u001b[K     |██████████                      | 327kB 56.0MB/s eta 0:00:01\r\u001b[K     |██████████▍                     | 337kB 56.0MB/s eta 0:00:01\r\u001b[K     |██████████▊                     | 348kB 56.0MB/s eta 0:00:01\r\u001b[K     |███████████                     | 358kB 56.0MB/s eta 0:00:01\r\u001b[K     |███████████▍                    | 368kB 56.0MB/s eta 0:00:01\r\u001b[K     |███████████▋                    | 378kB 56.0MB/s eta 0:00:01\r\u001b[K     |████████████                    | 389kB 56.0MB/s eta 0:00:01\r\u001b[K     |████████████▎                   | 399kB 56.0MB/s eta 0:00:01\r\u001b[K     |████████████▋                   | 409kB 56.0MB/s eta 0:00:01\r\u001b[K     |█████████████                   | 419kB 56.0MB/s eta 0:00:01\r\u001b[K     |█████████████▎                  | 430kB 56.0MB/s eta 0:00:01\r\u001b[K     |█████████████▌                  | 440kB 56.0MB/s eta 0:00:01\r\u001b[K     |█████████████▉                  | 450kB 56.0MB/s eta 0:00:01\r\u001b[K     |██████████████▏                 | 460kB 56.0MB/s eta 0:00:01\r\u001b[K     |██████████████▌                 | 471kB 56.0MB/s eta 0:00:01\r\u001b[K     |██████████████▉                 | 481kB 56.0MB/s eta 0:00:01\r\u001b[K     |███████████████▏                | 491kB 56.0MB/s eta 0:00:01\r\u001b[K     |███████████████▍                | 501kB 56.0MB/s eta 0:00:01\r\u001b[K     |███████████████▊                | 512kB 56.0MB/s eta 0:00:01\r\u001b[K     |████████████████                | 522kB 56.0MB/s eta 0:00:01\r\u001b[K     |████████████████▍               | 532kB 56.0MB/s eta 0:00:01\r\u001b[K     |████████████████▊               | 542kB 56.0MB/s eta 0:00:01\r\u001b[K     |█████████████████               | 552kB 56.0MB/s eta 0:00:01\r\u001b[K     |█████████████████▎              | 563kB 56.0MB/s eta 0:00:01\r\u001b[K     |█████████████████▋              | 573kB 56.0MB/s eta 0:00:01\r\u001b[K     |██████████████████              | 583kB 56.0MB/s eta 0:00:01\r\u001b[K     |██████████████████▎             | 593kB 56.0MB/s eta 0:00:01\r\u001b[K     |██████████████████▋             | 604kB 56.0MB/s eta 0:00:01\r\u001b[K     |███████████████████             | 614kB 56.0MB/s eta 0:00:01\r\u001b[K     |███████████████████▏            | 624kB 56.0MB/s eta 0:00:01\r\u001b[K     |███████████████████▌            | 634kB 56.0MB/s eta 0:00:01\r\u001b[K     |███████████████████▉            | 645kB 56.0MB/s eta 0:00:01\r\u001b[K     |████████████████████▏           | 655kB 56.0MB/s eta 0:00:01\r\u001b[K     |████████████████████▌           | 665kB 56.0MB/s eta 0:00:01\r\u001b[K     |████████████████████▉           | 675kB 56.0MB/s eta 0:00:01\r\u001b[K     |█████████████████████▏          | 686kB 56.0MB/s eta 0:00:01\r\u001b[K     |█████████████████████▍          | 696kB 56.0MB/s eta 0:00:01\r\u001b[K     |█████████████████████▊          | 706kB 56.0MB/s eta 0:00:01\r\u001b[K     |██████████████████████          | 716kB 56.0MB/s eta 0:00:01\r\u001b[K     |██████████████████████▍         | 727kB 56.0MB/s eta 0:00:01\r\u001b[K     |██████████████████████▊         | 737kB 56.0MB/s eta 0:00:01\r\u001b[K     |███████████████████████         | 747kB 56.0MB/s eta 0:00:01\r\u001b[K     |███████████████████████▎        | 757kB 56.0MB/s eta 0:00:01\r\u001b[K     |███████████████████████▋        | 768kB 56.0MB/s eta 0:00:01\r\u001b[K     |████████████████████████        | 778kB 56.0MB/s eta 0:00:01\r\u001b[K     |████████████████████████▎       | 788kB 56.0MB/s eta 0:00:01\r\u001b[K     |████████████████████████▋       | 798kB 56.0MB/s eta 0:00:01\r\u001b[K     |█████████████████████████       | 808kB 56.0MB/s eta 0:00:01\r\u001b[K     |█████████████████████████▏      | 819kB 56.0MB/s eta 0:00:01\r\u001b[K     |█████████████████████████▌      | 829kB 56.0MB/s eta 0:00:01\r\u001b[K     |█████████████████████████▉      | 839kB 56.0MB/s eta 0:00:01\r\u001b[K     |██████████████████████████▏     | 849kB 56.0MB/s eta 0:00:01\r\u001b[K     |██████████████████████████▌     | 860kB 56.0MB/s eta 0:00:01\r\u001b[K     |██████████████████████████▉     | 870kB 56.0MB/s eta 0:00:01\r\u001b[K     |███████████████████████████     | 880kB 56.0MB/s eta 0:00:01\r\u001b[K     |███████████████████████████▍    | 890kB 56.0MB/s eta 0:00:01\r\u001b[K     |███████████████████████████▊    | 901kB 56.0MB/s eta 0:00:01\r\u001b[K     |████████████████████████████    | 911kB 56.0MB/s eta 0:00:01\r\u001b[K     |████████████████████████████▍   | 921kB 56.0MB/s eta 0:00:01\r\u001b[K     |████████████████████████████▊   | 931kB 56.0MB/s eta 0:00:01\r\u001b[K     |█████████████████████████████   | 942kB 56.0MB/s eta 0:00:01\r\u001b[K     |█████████████████████████████▎  | 952kB 56.0MB/s eta 0:00:01\r\u001b[K     |█████████████████████████████▋  | 962kB 56.0MB/s eta 0:00:01\r\u001b[K     |██████████████████████████████  | 972kB 56.0MB/s eta 0:00:01\r\u001b[K     |██████████████████████████████▎ | 983kB 56.0MB/s eta 0:00:01\r\u001b[K     |██████████████████████████████▋ | 993kB 56.0MB/s eta 0:00:01\r\u001b[K     |██████████████████████████████▉ | 1.0MB 56.0MB/s eta 0:00:01\r\u001b[K     |███████████████████████████████▏| 1.0MB 56.0MB/s eta 0:00:01\r\u001b[K     |███████████████████████████████▌| 1.0MB 56.0MB/s eta 0:00:01\r\u001b[K     |███████████████████████████████▉| 1.0MB 56.0MB/s eta 0:00:01\r\u001b[K     |████████████████████████████████| 1.0MB 56.0MB/s \n",
            "\u001b[?25hRequirement already satisfied: boto3 in /usr/local/lib/python3.6/dist-packages (from transformers) (1.12.43)\n",
            "Collecting tokenizers==0.5.2\n",
            "\u001b[?25l  Downloading https://files.pythonhosted.org/packages/d1/3f/73c881ea4723e43c1e9acf317cf407fab3a278daab3a69c98dcac511c04f/tokenizers-0.5.2-cp36-cp36m-manylinux1_x86_64.whl (3.7MB)\n",
            "\u001b[K     |████████████████████████████████| 3.7MB 29kB/s \n",
            "\u001b[?25hCollecting sacremoses\n",
            "\u001b[?25l  Downloading https://files.pythonhosted.org/packages/99/50/93509f906a40bffd7d175f97fd75ea328ad9bd91f48f59c4bd084c94a25e/sacremoses-0.0.41.tar.gz (883kB)\n",
            "\u001b[K     |████████████████████████████████| 890kB 47.9MB/s \n",
            "\u001b[?25hRequirement already satisfied: tqdm>=4.27 in /usr/local/lib/python3.6/dist-packages (from transformers) (4.38.0)\n",
            "Requirement already satisfied: requests in /usr/local/lib/python3.6/dist-packages (from transformers) (2.21.0)\n",
            "Requirement already satisfied: filelock in /usr/local/lib/python3.6/dist-packages (from transformers) (3.0.12)\n",
            "Requirement already satisfied: s3transfer<0.4.0,>=0.3.0 in /usr/local/lib/python3.6/dist-packages (from boto3->transformers) (0.3.3)\n",
            "Requirement already satisfied: botocore<1.16.0,>=1.15.43 in /usr/local/lib/python3.6/dist-packages (from boto3->transformers) (1.15.43)\n",
            "Requirement already satisfied: jmespath<1.0.0,>=0.7.1 in /usr/local/lib/python3.6/dist-packages (from boto3->transformers) (0.9.5)\n",
            "Requirement already satisfied: six in /usr/local/lib/python3.6/dist-packages (from sacremoses->transformers) (1.12.0)\n",
            "Requirement already satisfied: click in /usr/local/lib/python3.6/dist-packages (from sacremoses->transformers) (7.1.1)\n",
            "Requirement already satisfied: joblib in /usr/local/lib/python3.6/dist-packages (from sacremoses->transformers) (0.14.1)\n",
            "Requirement already satisfied: idna<2.9,>=2.5 in /usr/local/lib/python3.6/dist-packages (from requests->transformers) (2.8)\n",
            "Requirement already satisfied: certifi>=2017.4.17 in /usr/local/lib/python3.6/dist-packages (from requests->transformers) (2020.4.5.1)\n",
            "Requirement already satisfied: urllib3<1.25,>=1.21.1 in /usr/local/lib/python3.6/dist-packages (from requests->transformers) (1.24.3)\n",
            "Requirement already satisfied: chardet<3.1.0,>=3.0.2 in /usr/local/lib/python3.6/dist-packages (from requests->transformers) (3.0.4)\n",
            "Requirement already satisfied: python-dateutil<3.0.0,>=2.1 in /usr/local/lib/python3.6/dist-packages (from botocore<1.16.0,>=1.15.43->boto3->transformers) (2.8.1)\n",
            "Requirement already satisfied: docutils<0.16,>=0.10 in /usr/local/lib/python3.6/dist-packages (from botocore<1.16.0,>=1.15.43->boto3->transformers) (0.15.2)\n",
            "Building wheels for collected packages: sacremoses\n",
            "  Building wheel for sacremoses (setup.py) ... \u001b[?25l\u001b[?25hdone\n",
            "  Created wheel for sacremoses: filename=sacremoses-0.0.41-cp36-none-any.whl size=893334 sha256=93bceb0477d4c33bb74758b1275cf49ef336b75b0b318f8aa5ffe586fda157b0\n",
            "  Stored in directory: /root/.cache/pip/wheels/22/5a/d4/b020a81249de7dc63758a34222feaa668dbe8ebfe9170cc9b1\n",
            "Successfully built sacremoses\n",
            "Installing collected packages: sentencepiece, tokenizers, sacremoses, transformers\n",
            "Successfully installed sacremoses-0.0.41 sentencepiece-0.1.86 tokenizers-0.5.2 transformers-2.8.0\n"
          ],
          "name": "stdout"
        }
      ]
    },
    {
      "cell_type": "code",
      "metadata": {
        "id": "SDlMmtRU1MDJ",
        "colab_type": "code",
        "colab": {}
      },
      "source": [
        "import os\n",
        "import sys\n",
        "import torch\n",
        "import csv\n",
        "import numpy as np\n",
        "import random\n",
        "import time\n",
        "import datetime\n",
        "import pprint\n"
      ],
      "execution_count": 0,
      "outputs": []
    },
    {
      "cell_type": "code",
      "metadata": {
        "id": "qyXwpKlEWE4r",
        "colab_type": "code",
        "colab": {}
      },
      "source": [
        "home_dir = \"gdrive/My Drive/propaganda_detection\"\n",
        "data_dir = os.path.join(home_dir, \"datasets\")\n",
        "model_dir = os.path.join(home_dir, \"model_dir\")\n",
        "if not os.path.isdir(model_dir):\n",
        "  os.mkdir(model_dir)"
      ],
      "execution_count": 0,
      "outputs": []
    },
    {
      "cell_type": "code",
      "metadata": {
        "id": "-H93QqgFyxL1",
        "colab_type": "code",
        "colab": {}
      },
      "source": [
        "# Read training articles\n",
        "def read_articles(dir_name):\n",
        "  articles = []\n",
        "  train_dir = os.path.join(data_dir, dir_name)\n",
        "  for filename in sorted(os.listdir(train_dir)):\n",
        "    myfile = open(os.path.join(train_dir, filename))\n",
        "    article = myfile.read()\n",
        "    articles.append(article)\n",
        "    myfile.close()\n",
        "  article_ids = []\n",
        "  for filename in sorted(os.listdir(train_dir)):\n",
        "    article_ids.append(filename[7:-4])\n",
        "  \n",
        "  return articles, article_ids"
      ],
      "execution_count": 0,
      "outputs": []
    },
    {
      "cell_type": "code",
      "metadata": {
        "id": "MfBpePjiH_-o",
        "colab_type": "code",
        "colab": {}
      },
      "source": [
        "# Read training span labels \n",
        "def read_spans(mode=None):\n",
        "  spans = []\n",
        "  techniques = []\n",
        "  if mode == \"test\":\n",
        "    label_dir = os.path.join(data_dir, \"dev-task-TC-template.out\")\n",
        "  else:\n",
        "    label_dir = os.path.join(data_dir, \"train-labels-task2-technique-classification\")\n",
        "  for filename in sorted(os.listdir(label_dir)):\n",
        "    myfile = open(os.path.join(label_dir, filename))\n",
        "    tsvreader = csv.reader(myfile, delimiter=\"\\t\")\n",
        "    span = []\n",
        "    technique = []\n",
        "    for row in tsvreader:\n",
        "      span.append((int(row[2]), int(row[3])))\n",
        "      if mode == \"test\":\n",
        "        technique.append(\"Slogans\") # DUMMY\n",
        "      else:\n",
        "        technique.append(row[1])\n",
        "    myfile.close()\n",
        "    spans.append(span)\n",
        "    techniques.append(technique)\n",
        "  return spans, techniques"
      ],
      "execution_count": 0,
      "outputs": []
    },
    {
      "cell_type": "code",
      "metadata": {
        "id": "E9FjNDEZ4tnA",
        "colab_type": "code",
        "colab": {}
      },
      "source": [
        "# Read training span labels \n",
        "def read_test_spans():\n",
        "  spans = []\n",
        "  techniques = []\n",
        "  label_file = os.path.join(data_dir, \"dev-task-TC-template.out\")\n",
        "  myfile = open(label_file)\n",
        "  prev_index = -1\n",
        "  tsvreader = csv.reader(myfile, delimiter=\"\\t\")\n",
        "\n",
        "  span = []\n",
        "  technique = []\n",
        "  for row in tsvreader:\n",
        "    article_index = int(row[0])\n",
        "    if article_index != prev_index:\n",
        "      if prev_index != -1:\n",
        "        spans.append(span)\n",
        "        techniques.append(technique)\n",
        "      span = []\n",
        "      technique = []\n",
        "      span.append((int(row[2]), int(row[3])))\n",
        "      technique.append(\"Slogans\")\n",
        "      prev_index = article_index\n",
        "    else:\n",
        "      span.append((int(row[2]), int(row[3])))\n",
        "      technique.append(\"Slogans\")\n",
        "  spans.append(span)\n",
        "  techniques.append(technique)\n",
        "  return spans, techniques, "
      ],
      "execution_count": 0,
      "outputs": []
    },
    {
      "cell_type": "code",
      "metadata": {
        "id": "RLyM6nBECUgl",
        "colab_type": "code",
        "colab": {}
      },
      "source": [
        "def print_spans(article, span, technique):\n",
        "  for index, sp in enumerate(span):\n",
        "    print(technique[index], tag2idx[technique[index]], end=' - ')\n",
        "    print (article[sp[0]: sp[1]])\n",
        "  print()"
      ],
      "execution_count": 0,
      "outputs": []
    },
    {
      "cell_type": "code",
      "metadata": {
        "id": "iQ72YQ3aVfKz",
        "colab_type": "code",
        "colab": {}
      },
      "source": [
        "def get_context(article, span, mode=None):\n",
        "  def get_num_words(sentence):\n",
        "    return len(sentence.split(' '))\n",
        "  if mode == \"title\":\n",
        "    return article.split('\\n')[0]\n",
        "  if mode == \"sentence\":\n",
        "    WORD_LEN_LIMIT = 120\n",
        "    li = span[0]\n",
        "    ri = span[1]\n",
        "    span_text = article[li: ri]\n",
        "    num_words = get_num_words(span_text)\n",
        "    if num_words >= WORD_LEN_LIMIT:\n",
        "      return span_text\n",
        "    remaining_len = WORD_LEN_LIMIT - num_words\n",
        "    lhs_words = remaining_len // 2\n",
        "    rhs_words = remaining_len - lhs_words\n",
        "    li -= 1\n",
        "    lcount = 0\n",
        "    while li >= 0 and article[li] != '\\n' and lcount < lhs_words:\n",
        "      if article[li] == ' ':\n",
        "        lcount += 1\n",
        "      li -= 1\n",
        "    ri += 1\n",
        "    rcount = 0\n",
        "    while ri < len(article) and article[ri] != '\\n' and rcount < rhs_words:\n",
        "      if article[ri] == ' ':\n",
        "        rcount += 1\n",
        "      ri += 1\n",
        "    return article[li+1: ri - 1] \n",
        "\n",
        "  return \"\""
      ],
      "execution_count": 0,
      "outputs": []
    },
    {
      "cell_type": "code",
      "metadata": {
        "id": "1gKIOgezhjAE",
        "colab_type": "code",
        "colab": {}
      },
      "source": [
        "def get_examples(articles, spans, techniques, context_mode=None):\n",
        "  assert len(articles) == len(spans) and len(spans) == len(techniques)\n",
        "  sentences = []\n",
        "  labels = []\n",
        "  sent_contexts = []\n",
        "  for index, article in enumerate(articles):\n",
        "    span = spans[index]\n",
        "    technique = techniques[index]\n",
        "    assert len(technique) == len(span)\n",
        "    for i, sp in enumerate(span):\n",
        "      pt = tag2idx[technique[i]]\n",
        "      sentence = article[sp[0]: sp[1]]\n",
        "      sentences.append(sentence)\n",
        "      labels.append(pt)\n",
        "      context = get_context(article, sp, context_mode)\n",
        "      sent_contexts.append(context)\n",
        "  return sentences, labels, sent_contexts"
      ],
      "execution_count": 0,
      "outputs": []
    },
    {
      "cell_type": "code",
      "metadata": {
        "id": "iuXFQT9rKaMk",
        "colab_type": "code",
        "outputId": "dd2b3a76-4b77-45a8-95b7-d416d9c866c7",
        "colab": {
          "base_uri": "https://localhost:8080/",
          "height": 34
        }
      },
      "source": [
        "from transformers import BertForTokenClassification\n",
        "from keras.preprocessing.sequence import pad_sequences\n",
        "def convert_sentence_to_input_feature(sentence, tokenizer, add_cls_sep=True, max_seq_len=150, context=None):\n",
        "  tokenized_sentence = tokenizer.encode_plus(sentence,\n",
        "                                             add_special_tokens=add_cls_sep,\n",
        "                                             max_length=max_seq_len,\n",
        "                                             pad_to_max_length=True,\n",
        "                                             return_attention_mask=True)\n",
        "  tokenized_context = tokenizer.encode_plus(context,\n",
        "                                            add_special_tokens=add_cls_sep,\n",
        "                                            max_length=max_seq_len,\n",
        "                                            pad_to_max_length=True,\n",
        "                                            return_attention_mask=True)\n",
        "  return tokenized_sentence['input_ids'], tokenized_sentence['attention_mask'], tokenized_context['input_ids'], tokenized_context['attention_mask']"
      ],
      "execution_count": 0,
      "outputs": [
        {
          "output_type": "stream",
          "text": [
            "Using TensorFlow backend.\n"
          ],
          "name": "stderr"
        }
      ]
    },
    {
      "cell_type": "code",
      "metadata": {
        "id": "1psU4R8EaoyA",
        "colab_type": "code",
        "colab": {}
      },
      "source": [
        "from torch.utils.data import TensorDataset, DataLoader, RandomSampler, SequentialSampler\n",
        "\n",
        "def get_data(articles, spans, techniques, context_mode=None):\n",
        "  if context_mode is None:\n",
        "    context_mode = CONTEXT_MODE\n",
        "  sentences, labels, contexts = get_examples(articles, spans, techniques, context_mode=context_mode)\n",
        "  s_attention_masks = []\n",
        "  s_inputs = []\n",
        "  c_attention_masks = []\n",
        "  c_inputs = []\n",
        "  for i, sentence in enumerate(sentences):\n",
        "    s_input_ids, s_mask, c_input_ids, c_mask = convert_sentence_to_input_feature(sentence, tokenizer, context=contexts[i])\n",
        "    s_inputs.append(s_input_ids)\n",
        "    s_attention_masks.append(s_mask)\n",
        "    c_inputs.append(c_input_ids)\n",
        "    c_attention_masks.append(c_mask)\n",
        "\n",
        "  max_sent_len = 0\n",
        "  for sent in sentences:\n",
        "    sent_len = len(sent.split(' '))\n",
        "    max_sent_len = max(max_sent_len, sent_len)\n",
        "  max_context_len = 0\n",
        "  for sent in contexts:\n",
        "    sent_len = len(sent.split(' '))\n",
        "    max_context_len = max(max_context_len, sent_len)\n",
        "  print(max_sent_len, max_context_len)\n",
        "\n",
        "  s_inputs = torch.tensor(s_inputs)\n",
        "  c_inputs = torch.tensor(c_inputs)\n",
        "  labels = torch.tensor(labels)\n",
        "  s_masks = torch.tensor(s_attention_masks)\n",
        "  c_masks = torch.tensor(c_attention_masks)\n",
        "  tensor_data = TensorDataset(s_inputs, labels, s_masks, c_inputs, c_masks)\n",
        "  dataloader = DataLoader(tensor_data, batch_size=BATCH_SIZE)\n",
        "  return dataloader"
      ],
      "execution_count": 0,
      "outputs": []
    },
    {
      "cell_type": "code",
      "metadata": {
        "id": "BgR-htBfZ6RX",
        "colab_type": "code",
        "colab": {}
      },
      "source": [
        "from sklearn import metrics\n",
        "\n",
        "def compute_metrics(preds, labels):\n",
        "  pred_flat = np.argmax(preds, axis=1).flatten()\n",
        "  labels_flat = labels.flatten()\n",
        "  print(metrics.confusion_matrix(labels_flat, pred_flat))\n",
        "  print(metrics.classification_report(labels_flat, pred_flat))\n",
        "\n",
        "def flat_accuracy(preds, labels):\n",
        "  pred_flat = np.argmax(preds, axis=1).flatten()\n",
        "  labels_flat = labels.flatten()\n",
        "  return np.sum(pred_flat == labels_flat) / len(labels_flat)"
      ],
      "execution_count": 0,
      "outputs": []
    },
    {
      "cell_type": "code",
      "metadata": {
        "id": "N30yt03J9onb",
        "colab_type": "code",
        "colab": {}
      },
      "source": [
        "def format_time(elapsed):\n",
        "    elapsed_rounded = int(round((elapsed)))\n",
        "    return str(datetime.timedelta(seconds=elapsed_rounded))"
      ],
      "execution_count": 0,
      "outputs": []
    },
    {
      "cell_type": "code",
      "metadata": {
        "id": "I3kXHP177efV",
        "colab_type": "code",
        "colab": {}
      },
      "source": [
        "from torch.nn import CrossEntropyLoss, MSELoss\n",
        "\n",
        "class ContextualBertForSequenceClassification(torch.nn.Module):\n",
        "  \n",
        "  def __init__(self, num_labels, ContextModel, SpanModel):\n",
        "    super(ContextualBertForSequenceClassification, self).__init__()\n",
        "    self.ContextModel = ContextModel\n",
        "    self.SpanModel = SpanModel\n",
        "    self.num_labels = num_labels\n",
        "\n",
        "    # self.classifier = torch.nn.Linear(768*2, num_labels)\n",
        "    # self.classifier1 = torch.nn.Linear(768, num_labels)\n",
        "    self.classifier2 = torch.nn.Linear(768+128, num_labels)\n",
        "    self.reduce_classifier = torch.nn.Linear(768, 128)\n",
        "    self.dropout = torch.nn.Dropout(0.1)\n",
        "\n",
        "  def forward(\n",
        "      self,\n",
        "      span_input_ids,\n",
        "      span_attention_mask,\n",
        "      context_input_ids,\n",
        "      context_attention_mask,\n",
        "      labels=None\n",
        "  ):\n",
        "    context_outputs = self.ContextModel(\n",
        "        input_ids=context_input_ids,\n",
        "        attention_mask=context_attention_mask\n",
        "    )\n",
        "    context_outputs = context_outputs[1] # pooler output\n",
        "    span_outputs = self.SpanModel(\n",
        "        input_ids=span_input_ids,\n",
        "        attention_mask=span_attention_mask\n",
        "    )\n",
        "    span_outputs = span_outputs[1]\n",
        "\n",
        "    context_outputs = self.reduce_classifier(context_outputs)\n",
        "    pooled_output = torch.cat((span_outputs, context_outputs), axis=1)\n",
        "\n",
        "    pooled_output = self.dropout(pooled_output)\n",
        "\n",
        "    logits = self.classifier2(pooled_output)\n",
        "    outputs = (logits,)\n",
        "    if labels is not None:\n",
        "      if self.num_labels == 1:\n",
        "        loss_fct = MSELoss()\n",
        "        loss = loss_fct(logits.view(-1), labels.view(-1))\n",
        "      else:\n",
        "        loss_fct = CrossEntropyLoss()\n",
        "        loss = loss_fct(logits.view(-1, self.num_labels), labels.view(-1))\n",
        "      outputs = (loss,) + outputs\n",
        "\n",
        "    return outputs"
      ],
      "execution_count": 0,
      "outputs": []
    },
    {
      "cell_type": "code",
      "metadata": {
        "colab_type": "code",
        "id": "uCzVrHKdCj0s",
        "colab": {}
      },
      "source": [
        "def train(model, epochs=5):\n",
        "  loss_values = []\n",
        "  for epoch_i in range(0, epochs):\n",
        "    print(\"\")\n",
        "    print('======== Epoch {:} / {:} ========'.format(epoch_i + 1, epochs))\n",
        "    print('Training...')\n",
        "    t0 = time.time()\n",
        "    total_loss = 0\n",
        "    model.train()\n",
        "    for step, batch in enumerate(train_dataloader):\n",
        "      if step % 100 == 0 and not step == 0:\n",
        "        elapsed = format_time(time.time() - t0)\n",
        "        print('  Batch {:>5,}  of  {:>5,}.    Elapsed: {:}.'.format(step, len(train_dataloader), elapsed))\n",
        "      b_input_ids = batch[0].to(device)\n",
        "      b_labels = batch[1].to(device)\n",
        "      b_input_mask = batch[2].to(device)\n",
        "      b_c_input_ids = batch[3].to(device)\n",
        "      b_c_input_mask = batch[4].to(device)\n",
        "      model.zero_grad()        \n",
        "      outputs = model(b_input_ids, \n",
        "                      b_input_mask,\n",
        "                      b_c_input_ids, \n",
        "                      b_c_input_mask, \n",
        "                      labels=b_labels)\n",
        "      loss = outputs[0]\n",
        "      total_loss += loss.item()\n",
        "      loss.backward()\n",
        "      torch.nn.utils.clip_grad_norm_(model.parameters(), 1.0)\n",
        "      optimizer.step()\n",
        "      scheduler.step() # TODO\n",
        "    avg_train_loss = total_loss / len(train_dataloader)            \n",
        "    loss_values.append(avg_train_loss)\n",
        "    print(\"\")\n",
        "    print(\"  Average training loss: {0:.2f}\".format(avg_train_loss))\n",
        "    print(\"  Training epcoh took: {:}\".format(format_time(time.time() - t0)))\n",
        "    print(\"\")\n",
        "    print(\"Running Validation...\")\n",
        "    t0 = time.time()\n",
        "    model.eval()\n",
        "    eval_loss, eval_accuracy = 0, 0\n",
        "    nb_eval_steps, nb_eval_examples = 0, 0\n",
        "    for batch in eval_dataloader:\n",
        "      # batch = tuple(t.to(device) for t in batch)\n",
        "      b_input_ids = batch[0].to(device)\n",
        "      b_labels = batch[1].to(device)\n",
        "      b_input_mask = batch[2].to(device)\n",
        "      b_c_input_ids = batch[3].to(device)\n",
        "      b_c_input_mask = batch[4].to(device)\n",
        "      with torch.no_grad():        \n",
        "        outputs = model(b_input_ids, \n",
        "                        b_input_mask,\n",
        "                        b_c_input_ids, \n",
        "                        b_c_input_mask)\n",
        "      logits = outputs[0]\n",
        "      logits = logits.detach().cpu().numpy()\n",
        "      label_ids = b_labels.to('cpu').numpy()\n",
        "      tmp_eval_accuracy = flat_accuracy(logits, label_ids)\n",
        "      eval_accuracy += tmp_eval_accuracy\n",
        "      nb_eval_steps += 1\n",
        "    print(\"  Accuracy: {0:.2f}\".format(eval_accuracy/nb_eval_steps))\n",
        "    print(\"  Validation took: {:}\".format(format_time(time.time() - t0)))\n",
        "  print(\"\")\n",
        "  print(\"Training complete!\")"
      ],
      "execution_count": 0,
      "outputs": []
    },
    {
      "cell_type": "code",
      "metadata": {
        "id": "pOW1nliOdVKr",
        "colab_type": "code",
        "colab": {}
      },
      "source": [
        "def get_model_predictions(model, dataloader):\n",
        "  model.eval()\n",
        "  predictions , true_labels = [], []\n",
        "  nb_eval_steps = 0\n",
        "  for batch in dataloader:\n",
        "    b_input_ids = batch[0].to(device)\n",
        "    b_labels = batch[1].to(device)\n",
        "    b_input_mask = batch[2].to(device)\n",
        "    b_c_input_ids = batch[3].to(device)\n",
        "    b_c_input_mask = batch[4].to(device)\n",
        "    with torch.no_grad():        \n",
        "      logits = model(b_input_ids, \n",
        "                     b_input_mask,\n",
        "                     b_c_input_ids, \n",
        "                     b_c_input_mask)\n",
        "    logits = logits[0]\n",
        "    logits = logits.detach().cpu().numpy()\n",
        "    label_ids = b_labels.to('cpu').numpy()\n",
        "    pred_label = np.argmax(logits, axis=1)\n",
        "    predictions.extend(pred_label)\n",
        "    true_labels.extend(label_ids)\n",
        "  return predictions, true_labels"
      ],
      "execution_count": 0,
      "outputs": []
    },
    {
      "cell_type": "code",
      "metadata": {
        "id": "Fs-aNAVK5Ina",
        "colab_type": "code",
        "colab": {}
      },
      "source": [
        "from google.colab import files\n",
        "\n",
        "def get_dev_predictions(model):\n",
        "  test_articles, _ = read_articles(\"dev-articles\")\n",
        "  test_spans, test_techniques = read_test_spans()\n",
        "\n",
        "  test_articles = test_articles[1:]\n",
        "  test_dataloader = get_data(test_articles, test_spans, test_techniques)\n",
        "  pred, _ = get_model_predictions(model, test_dataloader)\n",
        "\n",
        "  with open('predictions.txt', 'w') as fp:\n",
        "    label_file = os.path.join(data_dir, \"dev-task-TC-template.out\")\n",
        "    myfile = open(label_file)\n",
        "    prev_index = -1\n",
        "    tsvreader = csv.reader(myfile, delimiter=\"\\t\")\n",
        "    for i, row in enumerate(tsvreader):\n",
        "      fp.write(row[0] + '\\t' + distinct_techniques[pred[i]] + '\\t' + row[2] + '\\t' + row[3] + '\\n')"
      ],
      "execution_count": 0,
      "outputs": []
    },
    {
      "cell_type": "code",
      "metadata": {
        "id": "XuUfhq4EhjKL",
        "colab_type": "code",
        "outputId": "163d5679-52e3-4003-d54a-b4d1604069fd",
        "colab": {
          "base_uri": "https://localhost:8080/",
          "height": 289
        }
      },
      "source": [
        "from sklearn.model_selection import train_test_split\n",
        "from transformers import BertTokenizer\n",
        "from transformers import RobertaTokenizer\n",
        "\n",
        "articles, article_ids = read_articles(\"train-articles\")\n",
        "spans, techniques = read_spans()\n",
        "distinct_techniques = list(set([y for x in techniques for y in x])) # idx to tag\n",
        "tag2idx = {t: i for i, t in enumerate(distinct_techniques)}\n",
        "pprint.pprint(tag2idx)\n",
        "\n",
        "NUM_ARTICLES = len(articles)\n",
        "\n",
        "articles = articles[0:NUM_ARTICLES]\n",
        "spans = spans[0:NUM_ARTICLES]\n",
        "techniques = techniques[0:NUM_ARTICLES]\n",
        "BATCH_SIZE=8\n",
        "\n",
        "seed_val = 1328\n",
        "random.seed(seed_val)\n",
        "np.random.seed(seed_val)\n",
        "torch.manual_seed(seed_val)\n",
        "torch.cuda.manual_seed_all(seed_val)\n",
        "\n",
        "indices = np.arange(NUM_ARTICLES)\n",
        "test_size = 0.1\n",
        "train_articles, eval_articles, train_spans, eval_spans, train_techniques, eval_techniques, train_indices, eval_indices = train_test_split(articles, spans, techniques, indices, test_size=test_size)\n",
        "\n",
        "tokenizer = RobertaTokenizer.from_pretrained('roberta-base', lower_case=True)\n",
        "\n",
        "CONTEXT_MODE = \"sentence\" # sentence or title\n",
        "\n",
        "train_dataloader = get_data(train_articles, train_spans, train_techniques)\n",
        "eval_dataloader = get_data(eval_articles, eval_spans, eval_techniques)"
      ],
      "execution_count": 0,
      "outputs": [
        {
          "output_type": "stream",
          "text": [
            "{'Appeal_to_Authority': 1,\n",
            " 'Appeal_to_fear-prejudice': 13,\n",
            " 'Bandwagon,Reductio_ad_hitlerum': 4,\n",
            " 'Black-and-White_Fallacy': 5,\n",
            " 'Causal_Oversimplification': 7,\n",
            " 'Doubt': 2,\n",
            " 'Exaggeration,Minimisation': 11,\n",
            " 'Flag-Waving': 9,\n",
            " 'Loaded_Language': 6,\n",
            " 'Name_Calling,Labeling': 10,\n",
            " 'Repetition': 12,\n",
            " 'Slogans': 0,\n",
            " 'Thought-terminating_Cliches': 8,\n",
            " 'Whataboutism,Straw_Men,Red_Herring': 3}\n",
            "133 133\n",
            "93 93\n"
          ],
          "name": "stdout"
        }
      ]
    },
    {
      "cell_type": "code",
      "metadata": {
        "id": "rrEXyRFf8uad",
        "colab_type": "code",
        "outputId": "9037628d-f0dc-4af6-9794-bcda9c026b3b",
        "colab": {
          "base_uri": "https://localhost:8080/",
          "height": 965,
          "referenced_widgets": [
            "d17cc5a6f07c4ac68ac3711505d2bb89",
            "8559354a795841c59e74b83bddcbff02",
            "17f75191640147b58801e36baf08b3e9",
            "1c1f31b38ada4ce8af0026071f3d9b10",
            "3c9191688b834f18b9bcb4220d4a1469",
            "db960a5c6f1f426bb8619d3a4a54c4a6",
            "2e8f5d67902d45e3b522df1801d79970",
            "265268211e4b480cb8899503592efce8",
            "83f9e8b6ccb14a52b4709e883c6e856c",
            "126e1f28c97a4deebd95d9ceba9a5d52",
            "161911628c8e4fc18a77a9da3891d47c",
            "8acd976abca94f8799833355df8438a3",
            "d34aa168943d457795b6228965b37030",
            "71dba792f848423380042b908f3dc8e2",
            "7e1f90f3bad64dbdb2aeff5370250857",
            "b74a08aa40e242d0bef0dc3e128b7a29"
          ]
        }
      },
      "source": [
        "from transformers import BertForSequenceClassification, AdamW, BertConfig\n",
        "from transformers import get_linear_schedule_with_warmup\n",
        "from transformers import RobertaModel\n",
        "from transformers import BertModel\n",
        "from transformers import RobertaForSequenceClassification\n",
        "\n",
        "device = torch.device(\"cuda\" if torch.cuda.is_available() else \"cpu\")\n",
        "num_labels = len(distinct_techniques)\n",
        "\n",
        "context_model = RobertaModel.from_pretrained(\"roberta-base\")\n",
        "span_model = RobertaModel.from_pretrained(\"roberta-base\")\n",
        "model = ContextualBertForSequenceClassification(num_labels, context_model, span_model)\n",
        "model.cuda()\n",
        "\n",
        "optimizer = AdamW(model.parameters(),lr = 3e-5,eps = 1e-8) # ler = 5e-5\n",
        "epochs = 3\n",
        "total_steps = len(train_dataloader) * epochs\n",
        "scheduler = get_linear_schedule_with_warmup(optimizer, \n",
        "                                            num_warmup_steps = 0, # Default value in run_glue.py\n",
        "                                            num_training_steps = total_steps)\n",
        "train(model, epochs=epochs)"
      ],
      "execution_count": 0,
      "outputs": [
        {
          "output_type": "display_data",
          "data": {
            "application/vnd.jupyter.widget-view+json": {
              "model_id": "d17cc5a6f07c4ac68ac3711505d2bb89",
              "version_minor": 0,
              "version_major": 2
            },
            "text/plain": [
              "HBox(children=(IntProgress(value=0, description='Downloading', max=481, style=ProgressStyle(description_width=…"
            ]
          },
          "metadata": {
            "tags": []
          }
        },
        {
          "output_type": "stream",
          "text": [
            "\n"
          ],
          "name": "stdout"
        },
        {
          "output_type": "display_data",
          "data": {
            "application/vnd.jupyter.widget-view+json": {
              "model_id": "83f9e8b6ccb14a52b4709e883c6e856c",
              "version_minor": 0,
              "version_major": 2
            },
            "text/plain": [
              "HBox(children=(IntProgress(value=0, description='Downloading', max=501200538, style=ProgressStyle(description_…"
            ]
          },
          "metadata": {
            "tags": []
          }
        },
        {
          "output_type": "stream",
          "text": [
            "\n",
            "\n",
            "======== Epoch 1 / 3 ========\n",
            "Training...\n",
            "  Batch   100  of    691.    Elapsed: 0:00:32.\n",
            "  Batch   200  of    691.    Elapsed: 0:01:04.\n",
            "  Batch   300  of    691.    Elapsed: 0:01:36.\n",
            "  Batch   400  of    691.    Elapsed: 0:02:08.\n",
            "  Batch   500  of    691.    Elapsed: 0:02:39.\n",
            "  Batch   600  of    691.    Elapsed: 0:03:11.\n",
            "\n",
            "  Average training loss: 1.70\n",
            "  Training epcoh took: 0:03:40\n",
            "\n",
            "Running Validation...\n",
            "  Accuracy: 0.66\n",
            "  Validation took: 0:00:06\n",
            "\n",
            "======== Epoch 2 / 3 ========\n",
            "Training...\n",
            "  Batch   100  of    691.    Elapsed: 0:00:32.\n",
            "  Batch   200  of    691.    Elapsed: 0:01:04.\n",
            "  Batch   300  of    691.    Elapsed: 0:01:35.\n",
            "  Batch   400  of    691.    Elapsed: 0:02:07.\n",
            "  Batch   500  of    691.    Elapsed: 0:02:39.\n",
            "  Batch   600  of    691.    Elapsed: 0:03:11.\n",
            "\n",
            "  Average training loss: 1.18\n",
            "  Training epcoh took: 0:03:40\n",
            "\n",
            "Running Validation...\n",
            "  Accuracy: 0.71\n",
            "  Validation took: 0:00:06\n",
            "\n",
            "======== Epoch 3 / 3 ========\n",
            "Training...\n",
            "  Batch   100  of    691.    Elapsed: 0:00:32.\n",
            "  Batch   200  of    691.    Elapsed: 0:01:04.\n",
            "  Batch   300  of    691.    Elapsed: 0:01:35.\n",
            "  Batch   400  of    691.    Elapsed: 0:02:07.\n",
            "  Batch   500  of    691.    Elapsed: 0:02:39.\n",
            "  Batch   600  of    691.    Elapsed: 0:03:11.\n",
            "\n",
            "  Average training loss: 0.89\n",
            "  Training epcoh took: 0:03:40\n",
            "\n",
            "Running Validation...\n",
            "  Accuracy: 0.72\n",
            "  Validation took: 0:00:06\n",
            "\n",
            "Training complete!\n"
          ],
          "name": "stdout"
        }
      ]
    },
    {
      "cell_type": "code",
      "metadata": {
        "id": "_G1S-4ZZOI3v",
        "colab_type": "code",
        "colab": {}
      },
      "source": [
        "get_dev_predictions(model)"
      ],
      "execution_count": 0,
      "outputs": []
    },
    {
      "cell_type": "code",
      "metadata": {
        "id": "71ZJtz2oQdQJ",
        "colab_type": "code",
        "colab": {}
      },
      "source": [
        "files.download('predictions.txt')"
      ],
      "execution_count": 0,
      "outputs": []
    },
    {
      "cell_type": "code",
      "metadata": {
        "id": "iuWJr2eS9KRG",
        "colab_type": "code",
        "outputId": "c7c01fb0-bc04-4a05-984d-fe64d3047cb6",
        "colab": {
          "base_uri": "https://localhost:8080/",
          "height": 1000
        }
      },
      "source": [
        "s, t = get_model_predictions(model, train_dataloader)\n",
        "print (len(s), len(t))\n",
        "print(metrics.confusion_matrix(t, s))\n",
        "print(metrics.classification_report(t, s))\n",
        "\n",
        "s, t = get_model_predictions(model, eval_dataloader)\n",
        "print (len(s), len(t))\n",
        "print(metrics.confusion_matrix(t, s))\n",
        "print(metrics.classification_report(t, s))"
      ],
      "execution_count": 0,
      "outputs": [
        {
          "output_type": "stream",
          "text": [
            "5679 5679\n",
            "[[ 383    0    1    1    5   22    1    1    3    5    0    2    1    1]\n",
            " [   1  104    0    1   14    1    1    2    7    1    1    1    0    0]\n",
            " [   1    0  110    0    0    1    0    0    5    0    0    2    0    0]\n",
            " [   0    2    0  183    3    1    3    0    0    0    3    1    1    1]\n",
            " [   3    2    3    3  226   11    0    2    6    1    2    2    1    0]\n",
            " [  38    0    4    2    7 1852    2    0   13   18    0    4    0    0]\n",
            " [   4    1    0    9    1    2  423    0    2    2    0    3    0    2]\n",
            " [   2    0    2    3    0    6    0   54    0    0    2    0    0    0]\n",
            " [   5    4   11    0    3   52    4    3  466   31    2   16    0    0]\n",
            " [   3    0    0    0    0   30    1    0   12  959    0    0    2    0]\n",
            " [   1    0    0    5    8    0    1    4    0    0   78    2    1    0]\n",
            " [   0    1    4    2    2    0    2    0    0    1    1  204    0    0]\n",
            " [   2    8    0    8    1    0    1    0    0    1    7    1   36    1]\n",
            " [   0    7    0    7    3    0   18    0    3    2    3    3    5   44]]\n",
            "              precision    recall  f1-score   support\n",
            "\n",
            "           0       0.86      0.90      0.88       426\n",
            "           1       0.81      0.78      0.79       134\n",
            "           2       0.81      0.92      0.87       119\n",
            "           3       0.82      0.92      0.87       198\n",
            "           4       0.83      0.86      0.84       262\n",
            "           5       0.94      0.95      0.95      1940\n",
            "           6       0.93      0.94      0.93       449\n",
            "           7       0.82      0.78      0.80        69\n",
            "           8       0.90      0.78      0.84       597\n",
            "           9       0.94      0.95      0.95      1007\n",
            "          10       0.79      0.78      0.78       100\n",
            "          11       0.85      0.94      0.89       217\n",
            "          12       0.77      0.55      0.64        66\n",
            "          13       0.90      0.46      0.61        95\n",
            "\n",
            "    accuracy                           0.90      5679\n",
            "   macro avg       0.85      0.82      0.83      5679\n",
            "weighted avg       0.90      0.90      0.90      5679\n",
            "\n",
            "450 450\n",
            "[[ 23   0   1   0   1   8   0   0   3   0   0   2   1   1]\n",
            " [  2   3   0   2   3   0   0   0   0   0   0   0   0   0]\n",
            " [  0   0   6   0   1   2   0   0   0   0   1   0   0   0]\n",
            " [  0   1   0   4   1   0   3   0   0   0   1   0   0   1]\n",
            " [  0   2   2   4  18   0   1   0   0   1   3   1   0   0]\n",
            " [ 11   0   2   2   3 142   2   0   7  10   2   2   0   0]\n",
            " [  4   1   0   4   0   4  28   0   1   0   0   1   0   1]\n",
            " [  0   0   0   0   0   0   1   6   0   0   0   0   0   0]\n",
            " [  2   0   3   1   1  10   0   0   5   1   1   0   0   0]\n",
            " [  2   0   1   0   0   7   0   0   0  40   0   1   0   0]\n",
            " [  0   0   0   0   1   0   1   0   0   0   5   0   0   0]\n",
            " [  0   0   0   0   0   0   1   0   0   0   0  11   0   0]\n",
            " [  1   1   0   0   0   0   0   0   0   0   0   0   1   3]\n",
            " [  1   0   0   0   2   0   4   0   0   0   0   1   0   5]]\n",
            "              precision    recall  f1-score   support\n",
            "\n",
            "           0       0.50      0.57      0.53        40\n",
            "           1       0.38      0.30      0.33        10\n",
            "           2       0.40      0.60      0.48        10\n",
            "           3       0.24      0.36      0.29        11\n",
            "           4       0.58      0.56      0.57        32\n",
            "           5       0.82      0.78      0.80       183\n",
            "           6       0.68      0.64      0.66        44\n",
            "           7       1.00      0.86      0.92         7\n",
            "           8       0.31      0.21      0.25        24\n",
            "           9       0.77      0.78      0.78        51\n",
            "          10       0.38      0.71      0.50         7\n",
            "          11       0.58      0.92      0.71        12\n",
            "          12       0.50      0.17      0.25         6\n",
            "          13       0.45      0.38      0.42        13\n",
            "\n",
            "    accuracy                           0.66       450\n",
            "   macro avg       0.54      0.56      0.53       450\n",
            "weighted avg       0.67      0.66      0.66       450\n",
            "\n"
          ],
          "name": "stdout"
        }
      ]
    },
    {
      "cell_type": "markdown",
      "metadata": {
        "id": "mgCkWXspT1df",
        "colab_type": "text"
      },
      "source": [
        "### Span Length Distribution"
      ]
    },
    {
      "cell_type": "code",
      "metadata": {
        "id": "61NtcxKgzSlX",
        "colab_type": "code",
        "outputId": "5ebcbe33-0229-44c5-de3a-609c4f90494d",
        "colab": {
          "base_uri": "https://localhost:8080/",
          "height": 765
        }
      },
      "source": [
        "counts = {}\n",
        "max_diff = 50000\n",
        "sls = []\n",
        "sls2 = []\n",
        "lengths = {}\n",
        "for index, tech in enumerate(techniques):\n",
        "  sp = spans[index]\n",
        "  for i, t in enumerate(tech):\n",
        "    s = sp[i]\n",
        "    sls2.append(s[1] - s[0])\n",
        "    if t in lengths:\n",
        "      lengths[t].append(s[1] - s[0])\n",
        "    else:\n",
        "      lengths[t] = [s[1] - s[0]]\n",
        "    if t in counts:\n",
        "      if s[1] - s[0] < max_diff:\n",
        "        counts[t] += 1\n",
        "        sls.append(s[1] - s[0])\n",
        "    else:\n",
        "      if s[1] - s[0] < max_diff:\n",
        "        counts[t] = 1\n",
        "        sls.append(s[1] - s[0])\n",
        "pprint.pprint(counts)\n",
        "print(np.mean(sls))\n",
        "print(np.mean(sls2))\n",
        "for t in lengths:\n",
        "  print(t, np.mean(lengths[t]))\n",
        "  print(t, np.median(lengths[t]))\n",
        "\n",
        "category1 = {'Loaded_Language': 1947,\n",
        " 'Name_Calling,Labeling': 960,\n",
        " 'Repetition': 587,\n",
        " 'Slogans': 121,\n",
        " 'Thought-terminating_Cliches': 64,\n",
        " 'Exaggeration,Minimisation': 0,\n",
        " 'Flag-Waving':0}\n",
        "lengths1 = []\n",
        "lengths2 = []\n",
        "\n",
        "for t in lengths:\n",
        "  if t in category1:\n",
        "    lengths1 += lengths[t]\n",
        "  else:\n",
        "    lengths2 += lengths[t]"
      ],
      "execution_count": 0,
      "outputs": [
        {
          "output_type": "stream",
          "text": [
            "{'Appeal_to_Authority': 144,\n",
            " 'Appeal_to_fear-prejudice': 294,\n",
            " 'Bandwagon,Reductio_ad_hitlerum': 72,\n",
            " 'Black-and-White_Fallacy': 107,\n",
            " 'Causal_Oversimplification': 209,\n",
            " 'Doubt': 493,\n",
            " 'Exaggeration,Minimisation': 466,\n",
            " 'Flag-Waving': 229,\n",
            " 'Loaded_Language': 2123,\n",
            " 'Name_Calling,Labeling': 1058,\n",
            " 'Repetition': 621,\n",
            " 'Slogans': 129,\n",
            " 'Thought-terminating_Cliches': 76,\n",
            " 'Whataboutism,Straw_Men,Red_Herring': 108}\n",
            "48.34377549355523\n",
            "48.34377549355523\n",
            "Appeal_to_Authority 138.95833333333334\n",
            "Appeal_to_Authority 94.5\n",
            "Doubt 124.7971602434077\n",
            "Doubt 97.0\n",
            "Repetition 17.784219001610307\n",
            "Repetition 13.0\n",
            "Appeal_to_fear-prejudice 98.58503401360544\n",
            "Appeal_to_fear-prejudice 79.0\n",
            "Slogans 25.093023255813954\n",
            "Slogans 22.0\n",
            "Black-and-White_Fallacy 105.29906542056075\n",
            "Black-and-White_Fallacy 90.0\n",
            "Loaded_Language 24.48657560056524\n",
            "Loaded_Language 18.0\n",
            "Flag-Waving 61.88209606986899\n",
            "Flag-Waving 39.0\n",
            "Name_Calling,Labeling 26.32703213610586\n",
            "Name_Calling,Labeling 21.0\n",
            "Whataboutism,Straw_Men,Red_Herring 97.14814814814815\n",
            "Whataboutism,Straw_Men,Red_Herring 85.5\n",
            "Causal_Oversimplification 123.98086124401914\n",
            "Causal_Oversimplification 110.0\n",
            "Exaggeration,Minimisation 44.141630901287556\n",
            "Exaggeration,Minimisation 36.0\n",
            "Bandwagon,Reductio_ad_hitlerum 96.27777777777777\n",
            "Bandwagon,Reductio_ad_hitlerum 74.5\n",
            "Thought-terminating_Cliches 30.473684210526315\n",
            "Thought-terminating_Cliches 24.0\n"
          ],
          "name": "stdout"
        }
      ]
    },
    {
      "cell_type": "code",
      "metadata": {
        "id": "3nswjSoVw7b2",
        "colab_type": "code",
        "outputId": "d89067bb-3d6a-4447-ef4d-04d1ac15cbb9",
        "colab": {
          "base_uri": "https://localhost:8080/",
          "height": 295
        }
      },
      "source": [
        "import matplotlib.pyplot as plt\n",
        "import seaborn as sns\n",
        "sns.distplot(lengths1, label='Category 1')\n",
        "sns.distplot(lengths2, label='Category 2')\n",
        "# sns.distplot(lengths['Slogans'])\n",
        "# sns.distplot(lengths['Causal_Oversimplification'])\n",
        "# sns.distplot(lengths['Slogans'], kde=False)\n",
        "# sns.distplot(lengths['Causal_Oversimplification'], kde=False)\n",
        "# for s in category1:\n",
        "#   sns.distplot(lengths[s])\n",
        "plt.legend()\n",
        "plt.xlabel('Number of characters')\n",
        "plt.title('Comparative distribution of Category 1 and Category 2')\n",
        "plt.savefig('comparative.png')"
      ],
      "execution_count": 0,
      "outputs": [
        {
          "output_type": "display_data",
          "data": {
            "image/png": "[encoded data removed]",
            "text/plain": [
              "<Figure size 432x288 with 1 Axes>"
            ]
          },
          "metadata": {
            "tags": [],
            "needs_background": "light"
          }
        }
      ]
    },
    {
      "cell_type": "code",
      "metadata": {
        "id": "UOhoe1ClzTcc",
        "colab_type": "code",
        "outputId": "d5753ba1-a4c8-43e3-d216-fae3f3d4f417",
        "colab": {
          "base_uri": "https://localhost:8080/",
          "height": 295
        }
      },
      "source": [
        "for s in lengths:\n",
        "  if s not in category1:\n",
        "    sns.distplot(lengths[s])\n",
        "plt.xlabel('Number of characters')\n",
        "plt.title('Category 2 distribution')\n",
        "plt.savefig('Category2.png')"
      ],
      "execution_count": 0,
      "outputs": [
        {
          "output_type": "display_data",
          "data": {
            "image/png": "[encoded data removed]",
            "text/plain": [
              "<Figure size 432x288 with 1 Axes>"
            ]
          },
          "metadata": {
            "tags": [],
            "needs_background": "light"
          }
        }
      ]
    },
    {
      "cell_type": "code",
      "metadata": {
        "id": "wovy8kQ93ikF",
        "colab_type": "code",
        "outputId": "30001b03-f2e6-4fd1-f42b-45caf1395182",
        "colab": {
          "base_uri": "https://localhost:8080/",
          "height": 295
        }
      },
      "source": [
        "\n",
        "for s in category1:\n",
        "  sns.distplot(lengths[s])\n",
        "plt.xlabel('Number of characters')\n",
        "plt.title('Category 1 distribution')\n",
        "plt.savefig('Category1.png')"
      ],
      "execution_count": 0,
      "outputs": [
        {
          "output_type": "display_data",
          "data": {
            "image/png": "[encoded data removed]",
            "text/plain": [
              "<Figure size 432x288 with 1 Axes>"
            ]
          },
          "metadata": {
            "tags": [],
            "needs_background": "light"
          }
        }
      ]
    },
    {
      "cell_type": "code",
      "metadata": {
        "id": "Fu3Ja1w-4Oat",
        "colab_type": "code",
        "outputId": "2cfce821-3ec1-4711-ea6d-3ca4146e6676",
        "colab": {
          "base_uri": "https://localhost:8080/",
          "height": 34
        }
      },
      "source": [
        "for s in category1:\n",
        "  print(s, end=', ')"
      ],
      "execution_count": 0,
      "outputs": [
        {
          "output_type": "stream",
          "text": [
            "Loaded_Language, Name_Calling,Labeling, Repetition, Slogans, Thought-terminating_Cliches, Exaggeration,Minimisation, Flag-Waving, "
          ],
          "name": "stdout"
        }
      ]
    },
    {
      "cell_type": "code",
      "metadata": {
        "id": "n7MMXx2t-Gui",
        "colab_type": "code",
        "colab": {}
      },
      "source": [
        ""
      ],
      "execution_count": 0,
      "outputs": []
    }
  ]
}